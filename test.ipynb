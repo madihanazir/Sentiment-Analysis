{
 "cells": [
  {
   "cell_type": "code",
   "execution_count": 113,
   "metadata": {},
   "outputs": [],
   "source": [
    "import pandas as pd\n",
    "import matplotlib.pyplot as plt\n",
    "import seaborn as sns\n",
    "import numpy as np\n",
    "import tensorflow as tf\n",
    "from vaderSentiment.vaderSentiment import SentimentIntensityAnalyzer"
   ]
  },
  {
   "cell_type": "code",
   "execution_count": 4,
   "metadata": {},
   "outputs": [
    {
     "data": {
      "text/html": [
       "<div>\n",
       "<style scoped>\n",
       "    .dataframe tbody tr th:only-of-type {\n",
       "        vertical-align: middle;\n",
       "    }\n",
       "\n",
       "    .dataframe tbody tr th {\n",
       "        vertical-align: top;\n",
       "    }\n",
       "\n",
       "    .dataframe thead th {\n",
       "        text-align: right;\n",
       "    }\n",
       "</style>\n",
       "<table border=\"1\" class=\"dataframe\">\n",
       "  <thead>\n",
       "    <tr style=\"text-align: right;\">\n",
       "      <th></th>\n",
       "      <th>title</th>\n",
       "      <th>media</th>\n",
       "      <th>date</th>\n",
       "      <th>datetime</th>\n",
       "      <th>desc</th>\n",
       "      <th>link</th>\n",
       "      <th>img</th>\n",
       "    </tr>\n",
       "  </thead>\n",
       "  <tbody>\n",
       "    <tr>\n",
       "      <th>0</th>\n",
       "      <td>Vigils take place across country in support of...</td>\n",
       "      <td>RTE</td>\n",
       "      <td>1 hour ago</td>\n",
       "      <td>2023-12-31 17:20:51.575360</td>\n",
       "      <td>NaN</td>\n",
       "      <td>https://www.rte.ie/news/dublin/2023/1231/14242...</td>\n",
       "      <td>data:image/gif;base64,R0lGODlhAQABAIAAAP//////...</td>\n",
       "    </tr>\n",
       "    <tr>\n",
       "      <th>1</th>\n",
       "      <td>GAZA LIVE BLOG - Israel Bombs Two Mosques in C...</td>\n",
       "      <td>Palestine Chronicle</td>\n",
       "      <td>2 hours ago</td>\n",
       "      <td>2023-12-31 16:20:51.590217</td>\n",
       "      <td>NaN</td>\n",
       "      <td>https://www.palestinechronicle.com/gaza-live-b...</td>\n",
       "      <td>data:image/gif;base64,R0lGODlhAQABAIAAAP//////...</td>\n",
       "    </tr>\n",
       "    <tr>\n",
       "      <th>2</th>\n",
       "      <td>John Pilger: Veteran journalist and Palestine ...</td>\n",
       "      <td>Middle East Eye</td>\n",
       "      <td>3 hours ago</td>\n",
       "      <td>2023-12-31 15:20:51.603177</td>\n",
       "      <td>NaN</td>\n",
       "      <td>https://www.middleeasteye.net/news/john-pilger...</td>\n",
       "      <td>data:image/gif;base64,R0lGODlhAQABAIAAAP//////...</td>\n",
       "    </tr>\n",
       "    <tr>\n",
       "      <th>3</th>\n",
       "      <td>Injured Palestinian boy in Gaza no longer reco...</td>\n",
       "      <td>YouTube</td>\n",
       "      <td>3 hours ago</td>\n",
       "      <td>2023-12-31 15:20:51.616537</td>\n",
       "      <td>NaN</td>\n",
       "      <td>https://www.youtube.com/watch%3Fv%3D21dsdfvTtw...</td>\n",
       "      <td>data:image/gif;base64,R0lGODlhAQABAIAAAP//////...</td>\n",
       "    </tr>\n",
       "    <tr>\n",
       "      <th>4</th>\n",
       "      <td>Walkout over weapons: British school students ...</td>\n",
       "      <td>Al Jazeera</td>\n",
       "      <td>3 hours ago</td>\n",
       "      <td>2023-12-31 15:20:51.629160</td>\n",
       "      <td>NaN</td>\n",
       "      <td>https://www.aljazeera.com/features/2023/12/31/...</td>\n",
       "      <td>data:image/gif;base64,R0lGODlhAQABAIAAAP//////...</td>\n",
       "    </tr>\n",
       "  </tbody>\n",
       "</table>\n",
       "</div>"
      ],
      "text/plain": [
       "                                               title                media  \\\n",
       "0  Vigils take place across country in support of...                  RTE   \n",
       "1  GAZA LIVE BLOG - Israel Bombs Two Mosques in C...  Palestine Chronicle   \n",
       "2  John Pilger: Veteran journalist and Palestine ...      Middle East Eye   \n",
       "3  Injured Palestinian boy in Gaza no longer reco...              YouTube   \n",
       "4  Walkout over weapons: British school students ...           Al Jazeera   \n",
       "\n",
       "          date                    datetime  desc  \\\n",
       "0   1 hour ago  2023-12-31 17:20:51.575360   NaN   \n",
       "1  2 hours ago  2023-12-31 16:20:51.590217   NaN   \n",
       "2  3 hours ago  2023-12-31 15:20:51.603177   NaN   \n",
       "3  3 hours ago  2023-12-31 15:20:51.616537   NaN   \n",
       "4  3 hours ago  2023-12-31 15:20:51.629160   NaN   \n",
       "\n",
       "                                                link  \\\n",
       "0  https://www.rte.ie/news/dublin/2023/1231/14242...   \n",
       "1  https://www.palestinechronicle.com/gaza-live-b...   \n",
       "2  https://www.middleeasteye.net/news/john-pilger...   \n",
       "3  https://www.youtube.com/watch%3Fv%3D21dsdfvTtw...   \n",
       "4  https://www.aljazeera.com/features/2023/12/31/...   \n",
       "\n",
       "                                                 img  \n",
       "0  data:image/gif;base64,R0lGODlhAQABAIAAAP//////...  \n",
       "1  data:image/gif;base64,R0lGODlhAQABAIAAAP//////...  \n",
       "2  data:image/gif;base64,R0lGODlhAQABAIAAAP//////...  \n",
       "3  data:image/gif;base64,R0lGODlhAQABAIAAAP//////...  \n",
       "4  data:image/gif;base64,R0lGODlhAQABAIAAAP//////...  "
      ]
     },
     "execution_count": 4,
     "metadata": {},
     "output_type": "execute_result"
    }
   ],
   "source": [
    "df=pd.read_csv(\"news_data.csv\")\n",
    "df.head()"
   ]
  },
  {
   "cell_type": "code",
   "execution_count": 7,
   "metadata": {},
   "outputs": [
    {
     "name": "stdout",
     "output_type": "stream",
     "text": [
      "<class 'pandas.core.frame.DataFrame'>\n",
      "RangeIndex: 1950 entries, 0 to 1949\n",
      "Data columns (total 7 columns):\n",
      " #   Column    Non-Null Count  Dtype  \n",
      "---  ------    --------------  -----  \n",
      " 0   title     1950 non-null   object \n",
      " 1   media     1950 non-null   object \n",
      " 2   date      1950 non-null   object \n",
      " 3   datetime  1950 non-null   object \n",
      " 4   desc      0 non-null      float64\n",
      " 5   link      1950 non-null   object \n",
      " 6   img       1950 non-null   object \n",
      "dtypes: float64(1), object(6)\n",
      "memory usage: 106.8+ KB\n"
     ]
    }
   ],
   "source": [
    "df.info()"
   ]
  },
  {
   "cell_type": "code",
   "execution_count": 13,
   "metadata": {},
   "outputs": [],
   "source": [
    "df=df.drop(['link','img','desc'],axis=1)"
   ]
  },
  {
   "cell_type": "code",
   "execution_count": 31,
   "metadata": {},
   "outputs": [
    {
     "data": {
      "image/png": "[encoded data removed]",
      "text/plain": [
       "<Figure size 1200x600 with 1 Axes>"
      ]
     },
     "metadata": {},
     "output_type": "display_data"
    }
   ],
   "source": [
    "plt.figure(figsize=(12,6))\n",
    "sns.countplot(x='media',data=df,palette=\"bright\")\n",
    "plt.xticks(rotation=90)\n",
    "plt.tight_layout()\n",
    "fig=plt.show()"
   ]
  },
  {
   "cell_type": "code",
   "execution_count": 95,
   "metadata": {},
   "outputs": [],
   "source": [
    "analyzer = SentimentIntensityAnalyzer()"
   ]
  },
  {
   "cell_type": "code",
   "execution_count": 90,
   "metadata": {},
   "outputs": [],
   "source": [
    "def vaderScores(dataframe):\n",
    "    titles=[]\n",
    "    media=[]\n",
    "    neg_vader=[]\n",
    "    neu_vader=[]\n",
    "    pos_vader=[]\n",
    "    cpd_vader=[]\n",
    "    sentiment_label=[]\n",
    "\n",
    "    for index, row in dataframe.iterrows():\n",
    "        curr_title=row['title'] \n",
    "        curr_media=row['media']\n",
    "        \n",
    "        sentiment_scores = analyzer.polarity_scores(curr_title)\n",
    "\n",
    "        titles.append(curr_title)\n",
    "        media.append(curr_media)\n",
    "        neg_vader.append(sentiment_scores['neg'])\n",
    "        neu_vader.append(sentiment_scores['neu'])\n",
    "        pos_vader.append(sentiment_scores['pos'])\n",
    "        cpd_vader.append(sentiment_scores['compound'])\n",
    "\n",
    "        compound_score=sentiment_scores['compound']\n",
    "\n",
    "        if compound_score >= 0.05:\n",
    "            sentiment_label.append('Positive')\n",
    "        elif compound_score <= -0.05:\n",
    "            sentiment_label.append('Negative')\n",
    "        else:\n",
    "            sentiment_label.append('Neutral')\n",
    "\n",
    "    \n",
    "    report=pd.DataFrame({'titles':titles,\n",
    "                         'media':media,\n",
    "                         'neg_vader':neg_vader,\n",
    "                         'neu_vader':neu_vader,\n",
    "                         'pos_vader':pos_vader,\n",
    "                         'cpd_vader':cpd_vader,\n",
    "                         'sentiment_label':sentiment_label})\n",
    "\n",
    "    return report\n"
   ]
  },
  {
   "cell_type": "code",
   "execution_count": 91,
   "metadata": {},
   "outputs": [],
   "source": [
    "report=vaderScores(df)"
   ]
  },
  {
   "cell_type": "code",
   "execution_count": 92,
   "metadata": {},
   "outputs": [
    {
     "data": {
      "text/html": [
       "<div>\n",
       "<style scoped>\n",
       "    .dataframe tbody tr th:only-of-type {\n",
       "        vertical-align: middle;\n",
       "    }\n",
       "\n",
       "    .dataframe tbody tr th {\n",
       "        vertical-align: top;\n",
       "    }\n",
       "\n",
       "    .dataframe thead th {\n",
       "        text-align: right;\n",
       "    }\n",
       "</style>\n",
       "<table border=\"1\" class=\"dataframe\">\n",
       "  <thead>\n",
       "    <tr style=\"text-align: right;\">\n",
       "      <th></th>\n",
       "      <th>titles</th>\n",
       "      <th>media</th>\n",
       "      <th>neg_vader</th>\n",
       "      <th>neu_vader</th>\n",
       "      <th>pos_vader</th>\n",
       "      <th>cpd_vader</th>\n",
       "      <th>sentiment_label</th>\n",
       "    </tr>\n",
       "  </thead>\n",
       "  <tbody>\n",
       "    <tr>\n",
       "      <th>0</th>\n",
       "      <td>Vigils take place across country in support of...</td>\n",
       "      <td>RTE</td>\n",
       "      <td>0.000</td>\n",
       "      <td>0.748</td>\n",
       "      <td>0.252</td>\n",
       "      <td>0.4019</td>\n",
       "      <td>Positive</td>\n",
       "    </tr>\n",
       "    <tr>\n",
       "      <th>1</th>\n",
       "      <td>GAZA LIVE BLOG - Israel Bombs Two Mosques in C...</td>\n",
       "      <td>Palestine Chronicle</td>\n",
       "      <td>0.115</td>\n",
       "      <td>0.885</td>\n",
       "      <td>0.000</td>\n",
       "      <td>-0.3818</td>\n",
       "      <td>Negative</td>\n",
       "    </tr>\n",
       "    <tr>\n",
       "      <th>2</th>\n",
       "      <td>John Pilger: Veteran journalist and Palestine ...</td>\n",
       "      <td>Middle East Eye</td>\n",
       "      <td>0.000</td>\n",
       "      <td>0.769</td>\n",
       "      <td>0.231</td>\n",
       "      <td>0.2732</td>\n",
       "      <td>Positive</td>\n",
       "    </tr>\n",
       "    <tr>\n",
       "      <th>3</th>\n",
       "      <td>Injured Palestinian boy in Gaza no longer reco...</td>\n",
       "      <td>YouTube</td>\n",
       "      <td>0.274</td>\n",
       "      <td>0.726</td>\n",
       "      <td>0.000</td>\n",
       "      <td>-0.5994</td>\n",
       "      <td>Negative</td>\n",
       "    </tr>\n",
       "    <tr>\n",
       "      <th>4</th>\n",
       "      <td>Walkout over weapons: British school students ...</td>\n",
       "      <td>Al Jazeera</td>\n",
       "      <td>0.620</td>\n",
       "      <td>0.380</td>\n",
       "      <td>0.000</td>\n",
       "      <td>-0.8316</td>\n",
       "      <td>Negative</td>\n",
       "    </tr>\n",
       "  </tbody>\n",
       "</table>\n",
       "</div>"
      ],
      "text/plain": [
       "                                              titles                media  \\\n",
       "0  Vigils take place across country in support of...                  RTE   \n",
       "1  GAZA LIVE BLOG - Israel Bombs Two Mosques in C...  Palestine Chronicle   \n",
       "2  John Pilger: Veteran journalist and Palestine ...      Middle East Eye   \n",
       "3  Injured Palestinian boy in Gaza no longer reco...              YouTube   \n",
       "4  Walkout over weapons: British school students ...           Al Jazeera   \n",
       "\n",
       "   neg_vader  neu_vader  pos_vader  cpd_vader sentiment_label  \n",
       "0      0.000      0.748      0.252     0.4019        Positive  \n",
       "1      0.115      0.885      0.000    -0.3818        Negative  \n",
       "2      0.000      0.769      0.231     0.2732        Positive  \n",
       "3      0.274      0.726      0.000    -0.5994        Negative  \n",
       "4      0.620      0.380      0.000    -0.8316        Negative  "
      ]
     },
     "execution_count": 92,
     "metadata": {},
     "output_type": "execute_result"
    }
   ],
   "source": [
    "report.head()"
   ]
  },
  {
   "cell_type": "code",
   "execution_count": 93,
   "metadata": {},
   "outputs": [
    {
     "data": {
      "text/plain": [
       "sentiment_label\n",
       "Negative    945\n",
       "Neutral     503\n",
       "Positive    502\n",
       "Name: count, dtype: int64"
      ]
     },
     "execution_count": 93,
     "metadata": {},
     "output_type": "execute_result"
    }
   ],
   "source": [
    "report['sentiment_label'].value_counts()"
   ]
  },
  {
   "cell_type": "code",
   "execution_count": 94,
   "metadata": {},
   "outputs": [],
   "source": [
    "report.to_csv(\"vader_report.csv\",index=False)"
   ]
  },
  {
   "cell_type": "code",
   "execution_count": 99,
   "metadata": {},
   "outputs": [],
   "source": [
    "#%pip install transformers"
   ]
  },
  {
   "cell_type": "code",
   "execution_count": 109,
   "metadata": {},
   "outputs": [
    {
     "name": "stderr",
     "output_type": "stream",
     "text": [
      "Some layers from the model checkpoint at nlptown/bert-base-multilingual-uncased-sentiment were not used when initializing TFBertForSequenceClassification: ['dropout_37']\n",
      "- This IS expected if you are initializing TFBertForSequenceClassification from the checkpoint of a model trained on another task or with another architecture (e.g. initializing a BertForSequenceClassification model from a BertForPreTraining model).\n",
      "- This IS NOT expected if you are initializing TFBertForSequenceClassification from the checkpoint of a model that you expect to be exactly identical (initializing a BertForSequenceClassification model from a BertForSequenceClassification model).\n",
      "All the layers of TFBertForSequenceClassification were initialized from the model checkpoint at nlptown/bert-base-multilingual-uncased-sentiment.\n",
      "If your task is similar to the task the model of the checkpoint was trained on, you can already use TFBertForSequenceClassification for predictions without further training.\n"
     ]
    }
   ],
   "source": [
    "from transformers import TFAutoModelForSequenceClassification\n",
    "from transformers import AutoTokenizer\n",
    "\n",
    "model=TFAutoModelForSequenceClassification.from_pretrained(\"nlptown/bert-base-multilingual-uncased-sentiment\")\n",
    "tokenizer=AutoTokenizer.from_pretrained(\"nlptown/bert-base-multilingual-uncased-sentiment\")"
   ]
  },
  {
   "cell_type": "code",
   "execution_count": 126,
   "metadata": {},
   "outputs": [
    {
     "name": "stdout",
     "output_type": "stream",
     "text": [
      "[[0.00620901 0.00443178 0.00487497 0.0367849  0.9476993 ]]\n"
     ]
    }
   ],
   "source": [
    "text=\"I am overjoyed with the results! Everything went even better than expected, and I couldn't be happier. This is absolutely amazing!\"\n",
    "encodedtext=tokenizer(text,return_tensors='tf')\n",
    "output=model(encodedtext)\n",
    "\n",
    "scores=tf.nn.softmax(output.logits, axis=1).numpy()\n",
    "\n",
    "print(scores)"
   ]
  },
  {
   "cell_type": "code",
   "execution_count": 133,
   "metadata": {},
   "outputs": [
    {
     "name": "stdout",
     "output_type": "stream",
     "text": [
      "{'Very negative': 0.006209005, 'Negative': 0.0044317767, 'Neutral': 0.0048749656, 'Positive': 0.036784902, 'Very positive': 0.9476993}\n",
      "Very positive\n"
     ]
    }
   ],
   "source": [
    "sentiment_labels = {\n",
    "    0: \"Very negative\",\n",
    "    1: \"Negative\",\n",
    "    2: \"Neutral\",\n",
    "    3: \"Positive\",\n",
    "    4: \"Very positive\"\n",
    "}\n",
    "\n",
    "# Extracting the probabilities from the scores array\n",
    "probabilities = scores[0]\n",
    "\n",
    "# Creating a dictionary with sentiment labels and their corresponding probabilities\n",
    "sentiment_probabilities = {sentiment_labels[i]: prob for i, prob in enumerate(probabilities)}\n",
    "\n",
    "print(sentiment_probabilities)\n",
    "max_index = tf.argmax(scores, axis=1).numpy()[0]\n",
    "overall_sentiment = sentiment_labels[max_index]\n",
    "print(overall_sentiment)"
   ]
  },
  {
   "cell_type": "code",
   "execution_count": 134,
   "metadata": {},
   "outputs": [],
   "source": [
    "def bertReport(dataframe):\n",
    "\n",
    "    sentiment_labels = {\n",
    "    0: \"Very negative\",\n",
    "    1: \"Negative\",\n",
    "    2: \"Neutral\",\n",
    "    3: \"Positive\",\n",
    "    4: \"Very positive\"\n",
    "}\n",
    "    titles=[]\n",
    "    media=[]\n",
    "    V_neg_bert=[]\n",
    "    neg_bert=[]\n",
    "    neu_bert=[]\n",
    "    pos_bert=[]\n",
    "    V_pos_bert=[]\n",
    "    sentiment_label=[]\n",
    "\n",
    "    for index, row in dataframe.iterrows():\n",
    "        curr_title=row['title'] \n",
    "        curr_media=row['media']\n",
    "        \n",
    "        encodedtext=tokenizer(curr_title,return_tensors='tf')\n",
    "        output=model(encodedtext)\n",
    "        scores=tf.nn.softmax(output.logits, axis=1).numpy()\n",
    "        max_index = tf.argmax(scores, axis=1).numpy()[0]\n",
    "        overall_sentiment = sentiment_labels[max_index]\n",
    "\n",
    "        titles.append(curr_title)\n",
    "        media.append(curr_media)\n",
    "\n",
    "        V_neg_bert.append(scores[0][0])\n",
    "        neg_bert.append(scores[0][1])\n",
    "        neu_bert.append(scores[0][2])\n",
    "        pos_bert.append(scores[0][3])\n",
    "        V_pos_bert.append(scores[0][4])\n",
    "        sentiment_label.append(overall_sentiment)\n",
    "\n",
    "\n",
    "    report=pd.DataFrame({'titles':titles,\n",
    "                         'media':media,\n",
    "                         'V_neg_bert':V_neg_bert,\n",
    "                         'neg_bert':neg_bert,\n",
    "                         'neu_bert':neu_bert,\n",
    "                         'pos_bert':pos_bert,\n",
    "                         'V_pos_bert':V_pos_bert,\n",
    "                         'sentiment_label':sentiment_label})\n",
    "\n",
    "    return report"
   ]
  },
  {
   "cell_type": "code",
   "execution_count": 135,
   "metadata": {},
   "outputs": [],
   "source": [
    "bert_report=bertReport(df)"
   ]
  },
  {
   "cell_type": "code",
   "execution_count": 136,
   "metadata": {},
   "outputs": [
    {
     "data": {
      "text/html": [
       "<div>\n",
       "<style scoped>\n",
       "    .dataframe tbody tr th:only-of-type {\n",
       "        vertical-align: middle;\n",
       "    }\n",
       "\n",
       "    .dataframe tbody tr th {\n",
       "        vertical-align: top;\n",
       "    }\n",
       "\n",
       "    .dataframe thead th {\n",
       "        text-align: right;\n",
       "    }\n",
       "</style>\n",
       "<table border=\"1\" class=\"dataframe\">\n",
       "  <thead>\n",
       "    <tr style=\"text-align: right;\">\n",
       "      <th></th>\n",
       "      <th>titles</th>\n",
       "      <th>media</th>\n",
       "      <th>V_neg_bert</th>\n",
       "      <th>neg_bert</th>\n",
       "      <th>neu_bert</th>\n",
       "      <th>pos_bert</th>\n",
       "      <th>V_pos_bert</th>\n",
       "      <th>sentiment_label</th>\n",
       "    </tr>\n",
       "  </thead>\n",
       "  <tbody>\n",
       "    <tr>\n",
       "      <th>0</th>\n",
       "      <td>Vigils take place across country in support of...</td>\n",
       "      <td>RTE</td>\n",
       "      <td>0.130819</td>\n",
       "      <td>0.126991</td>\n",
       "      <td>0.207259</td>\n",
       "      <td>0.307484</td>\n",
       "      <td>0.227448</td>\n",
       "      <td>Positive</td>\n",
       "    </tr>\n",
       "    <tr>\n",
       "      <th>1</th>\n",
       "      <td>GAZA LIVE BLOG - Israel Bombs Two Mosques in C...</td>\n",
       "      <td>Palestine Chronicle</td>\n",
       "      <td>0.399076</td>\n",
       "      <td>0.185277</td>\n",
       "      <td>0.142065</td>\n",
       "      <td>0.140398</td>\n",
       "      <td>0.133184</td>\n",
       "      <td>Very negative</td>\n",
       "    </tr>\n",
       "    <tr>\n",
       "      <th>2</th>\n",
       "      <td>John Pilger: Veteran journalist and Palestine ...</td>\n",
       "      <td>Middle East Eye</td>\n",
       "      <td>0.170564</td>\n",
       "      <td>0.130583</td>\n",
       "      <td>0.219348</td>\n",
       "      <td>0.248859</td>\n",
       "      <td>0.230645</td>\n",
       "      <td>Positive</td>\n",
       "    </tr>\n",
       "    <tr>\n",
       "      <th>3</th>\n",
       "      <td>Injured Palestinian boy in Gaza no longer reco...</td>\n",
       "      <td>YouTube</td>\n",
       "      <td>0.815171</td>\n",
       "      <td>0.130648</td>\n",
       "      <td>0.036512</td>\n",
       "      <td>0.008866</td>\n",
       "      <td>0.008803</td>\n",
       "      <td>Very negative</td>\n",
       "    </tr>\n",
       "    <tr>\n",
       "      <th>4</th>\n",
       "      <td>Walkout over weapons: British school students ...</td>\n",
       "      <td>Al Jazeera</td>\n",
       "      <td>0.292497</td>\n",
       "      <td>0.180251</td>\n",
       "      <td>0.163963</td>\n",
       "      <td>0.197047</td>\n",
       "      <td>0.166243</td>\n",
       "      <td>Very negative</td>\n",
       "    </tr>\n",
       "  </tbody>\n",
       "</table>\n",
       "</div>"
      ],
      "text/plain": [
       "                                              titles                media  \\\n",
       "0  Vigils take place across country in support of...                  RTE   \n",
       "1  GAZA LIVE BLOG - Israel Bombs Two Mosques in C...  Palestine Chronicle   \n",
       "2  John Pilger: Veteran journalist and Palestine ...      Middle East Eye   \n",
       "3  Injured Palestinian boy in Gaza no longer reco...              YouTube   \n",
       "4  Walkout over weapons: British school students ...           Al Jazeera   \n",
       "\n",
       "   V_neg_bert  neg_bert  neu_bert  pos_bert  V_pos_bert sentiment_label  \n",
       "0    0.130819  0.126991  0.207259  0.307484    0.227448        Positive  \n",
       "1    0.399076  0.185277  0.142065  0.140398    0.133184   Very negative  \n",
       "2    0.170564  0.130583  0.219348  0.248859    0.230645        Positive  \n",
       "3    0.815171  0.130648  0.036512  0.008866    0.008803   Very negative  \n",
       "4    0.292497  0.180251  0.163963  0.197047    0.166243   Very negative  "
      ]
     },
     "execution_count": 136,
     "metadata": {},
     "output_type": "execute_result"
    }
   ],
   "source": [
    "bert_report.head()"
   ]
  },
  {
   "cell_type": "code",
   "execution_count": null,
   "metadata": {},
   "outputs": [],
   "source": [
    "bert_report.to_csv(\"bert_report.csv\",index=False)"
   ]
  }
 ],
 "metadata": {
  "kernelspec": {
   "display_name": "Python 3",
   "language": "python",
   "name": "python3"
  },
  "language_info": {
   "codemirror_mode": {
    "name": "ipython",
    "version": 3
   },
   "file_extension": ".py",
   "mimetype": "text/x-python",
   "name": "python",
   "nbconvert_exporter": "python",
   "pygments_lexer": "ipython3",
   "version": "3.10.13"
  }
 },
 "nbformat": 4,
 "nbformat_minor": 2
}
